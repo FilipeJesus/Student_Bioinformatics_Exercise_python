{
 "cells": [
  {
   "cell_type": "markdown",
   "metadata": {},
   "source": [
    "Learn:\n",
    "    Variables are named objects which can store any form of value. They are called Variables because the data they store can be changed at your command.\n",
    "    you assign data to a variable using \"=\". example:\n",
    "                        foo = \"bar\"\n",
    "                        \n",
    "    There are many different forms of values but today we will teach you only about 4:\n",
    "            1. Strings - strings are words or phrases and are usually contained wihtin speach marks. the example above is assigning a string(\"bar\") to a variable (foo).\n",
    "            2. Interger - there are whole numbers and can be assigned without speechmarks. example:\n",
    "                        blue = 1\n",
    "            3. Numericals - these are coninuous numbers and like numericals can be assigned wihtout speechmarks. example:\n",
    "                        new = 99.9\n",
    "            4. Arrays - Arrays are equivalent to lists and can contain multiple of the other form of data. example:\n",
    "                        who = [1,0.01,\"bar\"]\n",
    "\n",
    "    In python you can check the content on any variable using print(x). Here you must replace x with your variable of choice. example:\n",
    "                        print(who)\n",
    "    you can even give print more than 1 variable at a time. example:\n",
    "                        print(foo,blue,new,who)\n",
    "    print will also take strings or numericals without needing to assign a variable, this is very useful. example:\n",
    "                        print(\"the\", foo, \"had this\", blue, \"drink which i\", new, \"% had to drink.\") \n",
    "                            output: the bar had this 1 drink which i 99.9 % had to drink."
   ]
  },
  {
   "cell_type": "markdown",
   "metadata": {},
   "source": [
    "Assignment:\n",
    "    1. try creating a variable called Organism and assign the string \"Homo Sapien\".\n",
    "    2. create a variable called Height and assign the numeric 1.78\n",
    "    3. print a sentance using your variables which states what is the average height of your organism"
   ]
  },
  {
   "cell_type": "code",
   "execution_count": 1,
   "metadata": {},
   "outputs": [
    {
     "name": "stdout",
     "output_type": "stream",
     "text": [
      "the species name is humans and its average height in meters is 2.78\n"
     ]
    }
   ],
   "source": [
    "# '=' can be used to assign a object (to the right) to a variable (on the left)\n",
    "Organism = \"Homo Sapien\"\n",
    "Height = 1.78\n",
    "# as you can see objects can be either word based (called a string contained between \" \") or numerical\n",
    "# lists can also be assigned to variables. example of a list in python: [\"This\", \"is\", \"a\", \"list\", \"Normally contained within square brackets\"]\n",
    "\n",
    "# you can print the value of  your variable to the screen using the print() function\n",
    "print(\"the species name is\", Organism, \"and its average height in meters is\", Height)"
   ]
  },
  {
   "cell_type": "markdown",
   "metadata": {},
   "source": [
    "Learn: if statements.\n",
    "\n",
    "        If Loops allow you to automate the querying of your variables. example:\n",
    "                    IceCream = \"Cookie Dough\"\n",
    "                    \n",
    "                    if IceCream == \"Chocolate\":\n",
    "                        print(\"TRUE\")\n",
    "                    else:\n",
    "                        print(\"FALSE\")\n",
    "        in the example above we checked if the variable, IceCream, is equal to the string \"Chocolate\". If the answer was that it is equal to \"Chocolate\" the TRUE would be printed if \n",
    "        if it was not true the FALSE would be printed.\n",
    "        \n",
    "        \"==\" is just one of many tools your can use for querying. Others include:\n",
    "            1. \">\" checks to see if variable is greater than the object\n",
    "            2. \"<\" checks to see if variable is less than the object\n",
    "            3. \">=\" checks to see if variable is greater than or equal to object\n",
    "            4. \"<=\" checks to see if variable is less than or equal to object\n",
    "            \n",
    "        you can even check one variable against another. example:\n",
    "                    IceCream = \"Cookie Dough\"\n",
    "                    BestIceCreamEVER = \"Ben & Jerry's Phish Food\"\n",
    "                    \n",
    "                    if IceCream == BestIceCreamEver:\n",
    "                            print(\"Can i have a bowl of that amazing\", IceCream)\n",
    "                    else:\n",
    "                            print(\"Sorry i am a bit too full for dessert\")\n",
    "            \n",
    "        FYI you do not need a else statment after your if. However, else statements are very common."
   ]
  },
  {
   "cell_type": "markdown",
   "metadata": {},
   "source": [
    "Assignment:\n",
    "    \n",
    "    Using code from your previous assignment check to see if the hight of your \"Organism\" is above 1 meter. please use a if"
   ]
  },
  {
   "cell_type": "code",
   "execution_count": 2,
   "metadata": {},
   "outputs": [
    {
     "name": "stdout",
     "output_type": "stream",
     "text": [
      "yes\n"
     ]
    }
   ],
   "source": [
    "Name = \"Homo Sapien\"\n",
    "Height = 1.78\n",
    "\n",
    "# loops are very powerful in programming an allow you to automate your analysis and query your data\n",
    "if Height > 2:\n",
    "    print(\"yes\")\n",
    "else:\n",
    "    print(\"no\")"
   ]
  },
  {
   "cell_type": "markdown",
   "metadata": {},
   "source": [
    "Learn: functions\n",
    "    \n",
    "    Function are commands which are programmed into python. YOu have already been using the function print(x) in these exercises.\n",
    "    Another useful function is len(x) which will give you the length of your variable. example:\n",
    "                    Word = \"boo\"\n",
    "                    WordLength = len(Word)\n",
    "                    print(Word, \"has\", WordLength, \"letters\")\n",
    "                        output: \"boo has 3 letters\""
   ]
  },
  {
   "cell_type": "markdown",
   "metadata": {},
   "source": [
    "Learn: \"For\" loops\n",
    "    The Python for statement iterates over the members of a sequence in order, executing the block each time. Example:\n",
    "                for x in [0,1,2,3]:\n",
    "                    print \"We're on time %d\" % (x)\n",
    "                \n",
    "    you can even iterate over strings which allows you to go through each letter at a time. example:\n",
    "                for x in \"GCATTAGGCA\":\n",
    "                    print(x)"
   ]
  },
  {
   "cell_type": "markdown",
   "metadata": {},
   "source": [
    "Learn: Algebra within python.\n",
    "    Python an many other computing languages allow you to exicute calculations on the command line.\n",
    "                    1 + 1\n",
    "                        output: 2\n",
    "    You can even execute calculations using variables\n",
    "                    x = 4\n",
    "                    x + 1\n",
    "                        output: 5\n",
    "    This has many use cases but one of which is counting. for example\n",
    "                    counter = 0\n",
    "                    for x in [1,2,3,4,5]:\n",
    "                        print(x, \"is in position\", counter, \"in the sequence\")\n",
    "                        counter = counter + 1\n",
    "    in computer science we always count from 0 due to the way data is stored in memory"
   ]
  },
  {
   "cell_type": "markdown",
   "metadata": {},
   "source": [
    "Assingment:\n",
    "    1. assign the gene sequence \"CTCCAATGTT\" to a variable.\n",
    "    2. find the length of the gene sequence using the len(x) function\n",
    "    3. loop through the gene sequence and print each which nucleotide base is at each position of the sequence. "
   ]
  },
  {
   "cell_type": "code",
   "execution_count": 3,
   "metadata": {},
   "outputs": [],
   "source": [
    "# assign a gene sequence to Str\n",
    "Str = \"CTCCAATGTT\"\n",
    "\n",
    "#check the length of the gene sequence\n",
    "StrLen = len(Str)\n",
    "print(\"the lenght of code is\", StrLen)\n",
    "\n",
    "# use a for loop to go through each nucleotide base in the gene sequence. in programming we always count from 0!\n",
    "counter = 0\n",
    "for x in Str:\n",
    "    NT = x\n",
    "    print(\"base number\", counter, \"contains the base\", NT)\n",
    "    # adds 1 to the counter. the equivilant to doing counter = counter + 1\n",
    "    counter += 1"
   ]
  },
  {
   "cell_type": "markdown",
   "metadata": {},
   "source": [
    "Assingment:\n",
    "    1. assign the gene sequence \"CTCCAATGTT\" to a variable.\n",
    "    2. loop through the gene sequence and calculate the GC percentage of the sequnce. This is the percentage the nucleotides which are Glycine and Cytosine"
   ]
  },
  {
   "cell_type": "code",
   "execution_count": 4,
   "metadata": {},
   "outputs": [],
   "source": [
    "#create a new function using def. this function checks the base provided and adds 1 to GC if the nucleotide base is Guanine or cytosine\n",
    "Str = \"CTCCAATGTT\"\n",
    "StrLen = len(Str)\n",
    "print(\"the lenght of code is\", StrLen)\n",
    "\n",
    "# create a variable to keep track of GC content\n",
    "GC = 0\n",
    "for NT in Str:\n",
    "    # use the function we created earlier\n",
    "    if NT == \"G\":\n",
    "        GC += 1\n",
    "    if NT == \"C\":\n",
    "        GC += 1\n",
    "\n",
    "GCpercentage = GC / StrLen * 100\n",
    "print(\"GC percentage is\", GCpercentage)"
   ]
  },
  {
   "cell_type": "markdown",
   "metadata": {},
   "source": [
    "Humans are very GC neutral which means the GC content of our genes ranges from 30-70 with our median being 50.\n",
    "Many single-celled organism's have skewed GC content thus meaning thier genes have a different range of GC for example 20-40 or 60-80. \n",
    "This is useful at it means bioinformaticians can check for contamination in our samples.\n",
    "In this exercise you will be trying to identify contaminants in a gene profile we have recieved from one of our 'patients'.\n",
    "\n",
    "Load in the list of genes using this code:\n",
    "                file = open('genes.txt', 'r')\n",
    "                # assign variable to your new list. use '\\n> ' in a to split your data in the file\n",
    "                Str = file.read().split('\\n> ')\n",
    "\n",
    "Once the contaminants have been identified, the can be removed and we can try and diagnose our 'patient'."
   ]
  },
  {
   "cell_type": "code",
   "execution_count": 16,
   "metadata": {},
   "source": [
    "file = open('genes.txt', 'r')\n",
    "# assign variable to your new list. use '\\n> ' in a to split your data in the file\n",
    "Str = file.read().split('\\n> ')\n",
    "\n",
    "counter = 0\n",
    "#loop through each gene in the list and run the code from teh previous block\n",
    "for gene in Str:\n",
    "    StrLen = len(gene)\n",
    "    GC = 0\n",
    "    for NT in gene:\n",
    "        if NT == \"G\":\n",
    "        GC += 1\n",
    "    if NT == \"C\":\n",
    "        GC += 1\n",
    "    GCpercentage = GC / StrLen * 100\n",
    "    print(\"gene number \",counter, \" has a GC percentage of\", GCpercentage)\n",
    "    counter += 1"
   ]
  },
  {
   "cell_type": "markdown",
   "metadata": {},
   "source": [
    "Next Steps: On the web\n",
    "1.   Download your new file - called modified_genes.txt.\n",
    "2.   Copy and paste contents from your new file into BLAST found here:\n",
    "            https://www.ensembl.org/Multi/Tools/Blast?db=core\n",
    "3.   Make sure Homo sapien is your default organism and all DNA options are selected.\n",
    "4.   Run BLAST. One gene should fail. Feel free to diagnose the error.\n",
    "5.   look at results for each sequence and note down what gene the sequence is most likely to belong too\n",
    "6.   insert gene list into the upload tab in DAVID at:\n",
    "            https://david.ncifcrf.gov/tools.jsp\n",
    "7.   select 'OFFICIAL_GENE_SYMBOL' as your identifier and click the Gene List option.\n",
    "8.   Run David use the function analysis, dig into the pathway section and try to identify what disease our patient likely has"
   ]
  }
 ],
 "metadata": {
  "kernelspec": {
   "display_name": "Python 3",
   "language": "python",
   "name": "python3"
  },
  "language_info": {
   "codemirror_mode": {
    "name": "ipython",
    "version": 3
   },
   "file_extension": ".py",
   "mimetype": "text/x-python",
   "name": "python",
   "nbconvert_exporter": "python",
   "pygments_lexer": "ipython3",
   "version": "3.6.5"
  }
 },
 "nbformat": 4,
 "nbformat_minor": 2
}
